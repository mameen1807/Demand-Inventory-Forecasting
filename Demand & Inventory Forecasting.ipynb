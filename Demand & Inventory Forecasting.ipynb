{
 "cells": [
  {
   "cell_type": "markdown",
   "id": "c07aa9ed",
   "metadata": {},
   "source": [
    "# Demand & Inventory Forecasting\n",
    "\n",
    "This notebook demonstrates **ML-based demand forecasting** combined with **inventory policy optimisation**:\n",
    "- Forecast daily demand with Linear Regression.\n",
    "- Choose optimal (s, S) inventory policy.\n",
    "- Minimise total expected inventory cost (holding + shortage).\n"
   ]
  },
  {
   "cell_type": "code",
   "execution_count": 46,
   "id": "06456020",
   "metadata": {},
   "outputs": [],
   "source": [
    "import numpy as np\n",
    "import pandas as pd\n",
    "from sklearn.linear_model import LinearRegression\n",
    "import itertools\n"
   ]
  },
  {
   "cell_type": "markdown",
   "id": "2f7131fe",
   "metadata": {},
   "source": [
    "## Generate Historical Demand Data\n"
   ]
  },
  {
   "cell_type": "code",
   "execution_count": 47,
   "id": "52be657f",
   "metadata": {},
   "outputs": [],
   "source": [
    "# Synthetic past demand\n",
    "past_demand = np.array([23, 15, 21, 25, 15, 17, 19, 21, 17, 19,\n",
    "                        16, 21, 21, 17, 22, 14, 17, 17, 21, 21,\n",
    "                        13, 18, 25, 17, 24, 23, 24, 18, 26, 18])\n",
    "X = np.arange(len(past_demand)).reshape(-1,1)\n",
    "y = past_demand\n"
   ]
  },
  {
   "cell_type": "markdown",
   "id": "9a586e55",
   "metadata": {},
   "source": [
    "# Demand & Inventory Forecasting\n",
    "\n",
    "This notebook demonstrates:\n",
    "1. Forecasting future daily demand using **Linear Regression**.\n",
    "2. Calculating inventory costs under an **(s, S) policy**.\n",
    "3. Optimising (s, S) to minimize expected total cost.\n"
   ]
  },
  {
   "cell_type": "code",
   "execution_count": 48,
   "id": "d93213d9",
   "metadata": {},
   "outputs": [],
   "source": [
    "import numpy as np\n",
    "import pandas as pd\n",
    "from sklearn.linear_model import LinearRegression\n"
   ]
  },
  {
   "cell_type": "markdown",
   "id": "43de8065",
   "metadata": {},
   "source": [
    "## 1️⃣ Generate Example Past Demand\n"
   ]
  },
  {
   "cell_type": "code",
   "execution_count": 49,
   "id": "cf2c1684",
   "metadata": {},
   "outputs": [
    {
     "name": "stdout",
     "output_type": "stream",
     "text": [
      "Past demand: [23 15 21 25 15 17 19 21 17 19 16 21 21 17 22 14 17 17 21 21 13 18 25 17\n",
      " 24 23 24 18 26 18]\n"
     ]
    }
   ],
   "source": [
    "# Fix seed for reproducibility\n",
    "np.random.seed(42)\n",
    "\n",
    "# Example: last 30 days demand\n",
    "past_demand = np.random.poisson(lam=20, size=30)\n",
    "print(\"Past demand:\", past_demand)\n"
   ]
  },
  {
   "cell_type": "markdown",
   "id": "f20c4278",
   "metadata": {},
   "source": [
    "## 2️⃣ Forecast Future Demand\n"
   ]
  },
  {
   "cell_type": "code",
   "execution_count": 50,
   "id": "200363a5",
   "metadata": {},
   "outputs": [
    {
     "name": "stdout",
     "output_type": "stream",
     "text": [
      "Forecasted demand for next 10 days: [20 20 20 20 20 20 20 20 20 20]\n"
     ]
    }
   ],
   "source": [
    "def forecast_demand(past_demand, future_days=10, smoothing=0.3):\n",
    "    df = pd.DataFrame({'day': np.arange(len(past_demand)), 'demand': past_demand})\n",
    "    X = df[['day']]\n",
    "    y = df['demand']\n",
    "    model = LinearRegression()\n",
    "    model.fit(X, y)\n",
    "\n",
    "    future_X = pd.DataFrame({'day': np.arange(len(past_demand), len(past_demand)+future_days)})\n",
    "    forecast = model.predict(future_X)\n",
    "\n",
    "    # Blend regression forecast with historical mean (smoothing)\n",
    "    avg_demand = np.mean(past_demand)\n",
    "    forecast = (1 - smoothing) * forecast + smoothing * avg_demand\n",
    "\n",
    "    # Ensure non-negative integers\n",
    "    forecast = np.maximum(forecast, 0).astype(int)\n",
    "    return forecast\n",
    "\n",
    "forecast = forecast_demand(past_demand, future_days=10)\n",
    "print(\"Forecasted demand for next 10 days:\", forecast)\n"
   ]
  },
  {
   "cell_type": "markdown",
   "id": "9e1926a7",
   "metadata": {},
   "source": [
    "## 3️⃣ Inventory Policy (s, S)\n"
   ]
  },
  {
   "cell_type": "code",
   "execution_count": 51,
   "id": "dc027c45",
   "metadata": {},
   "outputs": [],
   "source": [
    "def inventory_policy(forecast, s, S, initial_inventory=50, holding_cost=1, shortage_cost=5, order_cost=50):\n",
    "    inventory = initial_inventory\n",
    "    total_cost = 0\n",
    "    for d in forecast:\n",
    "        if inventory < s:  # Place order\n",
    "            order_qty = S - inventory\n",
    "            inventory += order_qty\n",
    "            total_cost += order_cost\n",
    "        if inventory >= d:  # Enough inventory\n",
    "            inventory -= d\n",
    "            total_cost += inventory * holding_cost\n",
    "        else:  # Shortage\n",
    "            total_cost += (d - inventory) * shortage_cost\n",
    "            inventory = 0\n",
    "    return total_cost\n"
   ]
  },
  {
   "cell_type": "markdown",
   "id": "cf54c665",
   "metadata": {},
   "source": [
    "## 4️⃣ Optimise (s, S) Automatically\n"
   ]
  },
  {
   "cell_type": "code",
   "execution_count": 52,
   "id": "3382f58d",
   "metadata": {},
   "outputs": [
    {
     "name": "stdout",
     "output_type": "stream",
     "text": [
      "Optimal policy: s=11, S=40 with minimum expected cost=320\n"
     ]
    }
   ],
   "source": [
    "def optimise_inventory_policy(forecast, s_range, S_range):\n",
    "    best_s, best_S, best_cost = None, None, float('inf')\n",
    "    for s in s_range:\n",
    "        for S in S_range:\n",
    "            if S > s:  # Valid policy\n",
    "                cost = inventory_policy(forecast, s, S)\n",
    "                if cost < best_cost:\n",
    "                    best_s, best_S, best_cost = s, S, cost\n",
    "    return best_s, best_S, best_cost\n",
    "\n",
    "# Search for best policy in ranges\n",
    "best_s, best_S, best_cost = optimise_inventory_policy(forecast, s_range=range(10,30), S_range=range(40,70))\n",
    "print(f\"Optimal policy: s={best_s}, S={best_S} with minimum expected cost={best_cost}\")\n"
   ]
  }
 ],
 "metadata": {
  "kernelspec": {
   "display_name": "Python 3",
   "language": "python",
   "name": "python3"
  },
  "language_info": {
   "codemirror_mode": {
    "name": "ipython",
    "version": 3
   },
   "file_extension": ".py",
   "mimetype": "text/x-python",
   "name": "python",
   "nbconvert_exporter": "python",
   "pygments_lexer": "ipython3",
   "version": "3.13.6"
  }
 },
 "nbformat": 4,
 "nbformat_minor": 5
}
